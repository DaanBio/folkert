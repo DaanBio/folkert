{
 "cells": [
  {
   "cell_type": "code",
   "execution_count": 40,
   "id": "496951aa-cbbc-4e0b-89a3-4ff87c60fb0c",
   "metadata": {},
   "outputs": [],
   "source": [
    "import pandas as pd\n",
    "import openai\n",
    "import streamlit as st\n",
    "from tqdm import tqdm\n",
    "from io import BytesIO\n",
    "from pyxlsb import open_workbook as open_xlsb"
   ]
  },
  {
   "cell_type": "code",
   "execution_count": 31,
   "id": "b6673a55-565a-448e-84c2-654ba115d33d",
   "metadata": {},
   "outputs": [
    {
     "data": {
      "text/html": [
       "<div>\n",
       "<style scoped>\n",
       "    .dataframe tbody tr th:only-of-type {\n",
       "        vertical-align: middle;\n",
       "    }\n",
       "\n",
       "    .dataframe tbody tr th {\n",
       "        vertical-align: top;\n",
       "    }\n",
       "\n",
       "    .dataframe thead th {\n",
       "        text-align: right;\n",
       "    }\n",
       "</style>\n",
       "<table border=\"1\" class=\"dataframe\">\n",
       "  <thead>\n",
       "    <tr style=\"text-align: right;\">\n",
       "      <th></th>\n",
       "      <th>prompts</th>\n",
       "    </tr>\n",
       "  </thead>\n",
       "  <tbody>\n",
       "    <tr>\n",
       "      <th>0</th>\n",
       "      <td>Kun je voor mij een seo waardige tekst kunnen ...</td>\n",
       "    </tr>\n",
       "    <tr>\n",
       "      <th>1</th>\n",
       "      <td>Kun je voor mij een seo waardige tekst kunnen ...</td>\n",
       "    </tr>\n",
       "    <tr>\n",
       "      <th>2</th>\n",
       "      <td>Kun je voor mij een seo waardige tekst kunnen ...</td>\n",
       "    </tr>\n",
       "  </tbody>\n",
       "</table>\n",
       "</div>"
      ],
      "text/plain": [
       "                                             prompts\n",
       "0  Kun je voor mij een seo waardige tekst kunnen ...\n",
       "1  Kun je voor mij een seo waardige tekst kunnen ...\n",
       "2  Kun je voor mij een seo waardige tekst kunnen ..."
      ]
     },
     "execution_count": 31,
     "metadata": {},
     "output_type": "execute_result"
    }
   ],
   "source": [
    "file_name='test'\n",
    "df=pd.read_excel(f'{file_name}.xlsx', header=None)\n",
    "df=pd.DataFrame(df.iloc[:, 1])\n",
    "df = df.rename({1: 'prompts'}, axis=1)\n",
    "df.shape[0]\n",
    "df.head()"
   ]
  },
  {
   "cell_type": "code",
   "execution_count": 32,
   "id": "36044e80-5a0f-446c-81e9-adca47f942e6",
   "metadata": {},
   "outputs": [],
   "source": [
    "def gpt3(prompt_text):\n",
    "    openai.api_key=\"xxxx\"\n",
    "    response = openai.Completion.create(\n",
    "        engine=\"text-davinci-003\",\n",
    "        prompt=prompt_text,\n",
    "            temperature=0.95,\n",
    "            max_tokens=200,\n",
    "            top_p=1,\n",
    "            frequency_penalty=0,\n",
    "            presence_penalty=0\n",
    "    )\n",
    "    content = response.choices[0].text.split('.')\n",
    "    return response.choices[0].text"
   ]
  },
  {
   "cell_type": "code",
   "execution_count": 34,
   "id": "cd375765-6de0-4e47-a11b-dc23443c09db",
   "metadata": {},
   "outputs": [
    {
     "name": "stderr",
     "output_type": "stream",
     "text": [
      "  0%|          | 0/3 [00:00<?, ?it/s]2023-02-24 13:32:37.661 INFO    openai: message='Request to OpenAI API' method=post path=https://api.openai.com/v1/engines/text-davinci-003/completions\n",
      "2023-02-24 13:32:47.119 INFO    openai: message='OpenAI API response' path=https://api.openai.com/v1/engines/text-davinci-003/completions processing_ms=8936 request_id=0de9c87c006554282b63553acfdb3387 response_code=200\n",
      " 33%|███▎      | 1/3 [00:09<00:18,  9.46s/it]2023-02-24 13:32:47.119 INFO    openai: message='Request to OpenAI API' method=post path=https://api.openai.com/v1/engines/text-davinci-003/completions\n",
      "2023-02-24 13:32:56.704 INFO    openai: message='OpenAI API response' path=https://api.openai.com/v1/engines/text-davinci-003/completions processing_ms=9391 request_id=89245b3063102d0cc5189fa138825adc response_code=200\n",
      " 67%|██████▋   | 2/3 [00:19<00:09,  9.53s/it]2023-02-24 13:32:56.705 INFO    openai: message='Request to OpenAI API' method=post path=https://api.openai.com/v1/engines/text-davinci-003/completions\n",
      "2023-02-24 13:33:05.087 INFO    openai: message='OpenAI API response' path=https://api.openai.com/v1/engines/text-davinci-003/completions processing_ms=8136 request_id=2a6bfef8a75b607a9a0d0b3f93195901 response_code=200\n",
      "100%|██████████| 3/3 [00:27<00:00,  9.14s/it]\n"
     ]
    }
   ],
   "source": [
    "story_list=[]\n",
    "for i in tqdm(range(df.shape[0])):\n",
    "    prompt=df['prompts'][i]\n",
    "    story_list_temp=gpt3(prompt)\n",
    "    story_list.append(story_list_temp)   \n",
    "    "
   ]
  },
  {
   "cell_type": "code",
   "execution_count": 35,
   "id": "c8307128-3d9a-461c-98ef-037ffe6a30c1",
   "metadata": {},
   "outputs": [
    {
     "data": {
      "text/html": [
       "<div>\n",
       "<style scoped>\n",
       "    .dataframe tbody tr th:only-of-type {\n",
       "        vertical-align: middle;\n",
       "    }\n",
       "\n",
       "    .dataframe tbody tr th {\n",
       "        vertical-align: top;\n",
       "    }\n",
       "\n",
       "    .dataframe thead th {\n",
       "        text-align: right;\n",
       "    }\n",
       "</style>\n",
       "<table border=\"1\" class=\"dataframe\">\n",
       "  <thead>\n",
       "    <tr style=\"text-align: right;\">\n",
       "      <th></th>\n",
       "      <th>answers</th>\n",
       "    </tr>\n",
       "  </thead>\n",
       "  <tbody>\n",
       "    <tr>\n",
       "      <th>0</th>\n",
       "      <td>\\n\\nBalboa VL801D is een veelzijdig spa contro...</td>\n",
       "    </tr>\n",
       "    <tr>\n",
       "      <th>1</th>\n",
       "      <td>\\n\\nBalboa VL701D is een uitstekende keuze als...</td>\n",
       "    </tr>\n",
       "    <tr>\n",
       "      <th>2</th>\n",
       "      <td>\\n\\nDe Balboa VL200 is een innovatieve warmtep...</td>\n",
       "    </tr>\n",
       "  </tbody>\n",
       "</table>\n",
       "</div>"
      ],
      "text/plain": [
       "                                             answers\n",
       "0  \\n\\nBalboa VL801D is een veelzijdig spa contro...\n",
       "1  \\n\\nBalboa VL701D is een uitstekende keuze als...\n",
       "2  \\n\\nDe Balboa VL200 is een innovatieve warmtep..."
      ]
     },
     "execution_count": 35,
     "metadata": {},
     "output_type": "execute_result"
    }
   ],
   "source": [
    "df_answers=pd.DataFrame({'answers':story_list})\n",
    "df_answers.head()"
   ]
  },
  {
   "cell_type": "code",
   "execution_count": 38,
   "id": "ee044cee-b5e3-483d-9b2d-6e03303f233b",
   "metadata": {},
   "outputs": [
    {
     "data": {
      "text/plain": [
       "'\\n\\nBalboa VL801D is een veelzijdig spa control systeem speciaal gemaakt om een \\u200b\\u200bspa of hot tub te besturen. Het biedt vele functies zoals het verwarmen van het water, het controleren van de viltemperatuur, het automatisch behandelen van chemicaliën, het uitschakelen bij te hoge druk en meer. De Balboa VL801D spa controller heeft verschillende programmeerbare functies die zorgen voor een betrouwbare, veilige en eenvoudige besturing van uw spa. Het uitgebreide systeem biedt optimaal gebruiksgemak dankzij de eenvoudige installatie en het intuïtieve'"
      ]
     },
     "execution_count": 38,
     "metadata": {},
     "output_type": "execute_result"
    }
   ],
   "source": [
    "df_answers['answers'][0]"
   ]
  },
  {
   "cell_type": "code",
   "execution_count": null,
   "id": "7b453179-dac8-44c7-a0db-3c76625ad77d",
   "metadata": {},
   "outputs": [],
   "source": []
  }
 ],
 "metadata": {
  "kernelspec": {
   "display_name": "Python 3 (ipykernel)",
   "language": "python",
   "name": "python3"
  },
  "language_info": {
   "codemirror_mode": {
    "name": "ipython",
    "version": 3
   },
   "file_extension": ".py",
   "mimetype": "text/x-python",
   "name": "python",
   "nbconvert_exporter": "python",
   "pygments_lexer": "ipython3",
   "version": "3.9.15"
  }
 },
 "nbformat": 4,
 "nbformat_minor": 5
}
